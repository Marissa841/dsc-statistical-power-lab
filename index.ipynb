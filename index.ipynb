{
 "cells": [
  {
   "cell_type": "markdown",
   "metadata": {},
   "source": [
    "# Statistical Power - Lab\n",
    "\n",
    "## Introduction\n",
    "\n",
    "\n",
    "In this lesson, you'll practice doing a power-analysis during experimental design. As you've seen, power analysis allows you to determine the sample size required to detect an effect of a given size with a given degree of confidence. In other words, it allows you to determine the probability of detecting an effect of a given size with a given level of confidence, under-sample size constraints.\n",
    "\n",
    "The following four factors have an intimate relationship:\n",
    "\n",
    "* Sample size\n",
    "* Effect size\n",
    "* Significance level = P (Type I error) = probability of finding an effect that is not there\n",
    "* **Power = 1 - P (Type II error)** = probability of finding an effect that is there\n",
    "\n",
    "Given any three of these, we can easily determine the fourth.\n",
    "\n",
    "## Objectives\n",
    "\n",
    "In this lab you will: \n",
    "\n",
    "- Describe the impact of sample size and effect size on power \n",
    "- Perform power calculation using SciPy and Python \n",
    "- Demonstrate the combined effect of sample size and effect size on statistical power using simulations\n",
    "\n",
    "## Let's get started!\n",
    "  \n",
    "To start, let's import the necessary libraries required for this simulation: "
   ]
  },
  {
   "cell_type": "code",
   "execution_count": 2,
   "metadata": {},
   "outputs": [
    {
     "name": "stderr",
     "output_type": "stream",
     "text": [
      "/Users/marissabush/opt/anaconda3/envs/learn-env/lib/python3.6/site-packages/statsmodels/tools/_testing.py:19: FutureWarning: pandas.util.testing is deprecated. Use the functions in the public API at pandas.testing instead.\n",
      "  import pandas.util.testing as tm\n"
     ]
    }
   ],
   "source": [
    "import numpy as np\n",
    "import scipy.stats as stats\n",
    "import pandas as pd\n",
    "import matplotlib.pyplot as plt\n",
    "import seaborn as sns\n",
    "sns.set_style('darkgrid')"
   ]
  },
  {
   "cell_type": "markdown",
   "metadata": {},
   "source": [
    "## Scenario\n",
    "\n",
    "A researcher wants to study how daily protein supplementation in the elderly population will affect baseline liver fat. The study budget will allow enrollment of 24 patients. Half will be randomized to a placebo group and half to the protein supplement treatment group and the trial will be carried out over one month. It is desired to see whether the mean change in percentage of liver fat from baseline to the end of the study differs between the two groups in the study. \n",
    "\n",
    "With this, the researcher writes the null hypothesis: \n",
    "\n",
    "    There is no difference between experimental and control group mean change in percentage of liver fat \n",
    "    \n",
    "$$\\mu_{1} = \\mu_{2}$$\n",
    "  \n",
    "And the alternative Hypothesis:\n",
    "\n",
    "    There is a difference between experimental and control group mean change in percentage of liver fat \n",
    "\n",
    "$$\\mu_{1} \\neq \\mu_{2}$$\n",
    "    \n",
    "  \n",
    "\n",
    "The researcher needs to know what power  will be obtained under the sample size restrictions to identify a change in mean percent liver fat of 0.17. Based on past results, a common standard deviation of 0.21 will be used for each treatment group in the power analysis. \n",
    "\n",
    "To determine the practicality of this experimental design, you'll run a power analysis simulation: "
   ]
  },
  {
   "cell_type": "code",
   "execution_count": 3,
   "metadata": {},
   "outputs": [],
   "source": [
    "# Number of patients in each group\n",
    "sample_size = 12\n",
    "\n",
    "# Control group\n",
    "control_mean = 0\n",
    "control_sd = 0.21\n",
    "\n",
    "# Experimental group\n",
    "experimental_mean = 0.17\n",
    "experimental_sd = 0.21\n",
    "\n",
    "# Set the number of simulations for our test = 1000\n",
    "n_sim = 1000"
   ]
  },
  {
   "cell_type": "markdown",
   "metadata": {},
   "source": [
    "You can now start running simulations to run an independent t-test with above data and store the calculated p-value in our `p` array. Perform following tasks: \n",
    "\n",
    "* Initialize a numpy array and fill it with `NaN` values for storing the results (p_value) of the independent t-test  \n",
    "* For a defined number of simulations (i.e., 1000), do the following:\n",
    "\n",
    "    * Generate a random normal variable with control mean and sd\n",
    "    * Generate a random normal variable with experimental mean and sd\n",
    "    * Run and independent t-test using control and experimental data\n",
    "    * Store the p value for each test\n",
    "\n",
    "* Calculate the total number and overall proportion of simulations where the null hypothesis is rejected\n"
   ]
  },
  {
   "cell_type": "code",
   "execution_count": 4,
   "metadata": {},
   "outputs": [],
   "source": [
    "control = np.random.normal(loc = control_mean, scale = control_sd, size = sample_size)\n",
    "experimental = np.random.normal(loc = experimental_mean, scale = experimental_sd, size = sample_size)"
   ]
  },
  {
   "cell_type": "code",
   "execution_count": 5,
   "metadata": {},
   "outputs": [
    {
     "data": {
      "text/plain": [
       "0.00412195039120835"
      ]
     },
     "execution_count": 5,
     "metadata": {},
     "output_type": "execute_result"
    }
   ],
   "source": [
    "stats.ttest_ind(control, experimental)[1]"
   ]
  },
  {
   "cell_type": "code",
   "execution_count": 6,
   "metadata": {},
   "outputs": [
    {
     "data": {
      "text/plain": [
       "0.495"
      ]
     },
     "execution_count": 6,
     "metadata": {},
     "output_type": "execute_result"
    }
   ],
   "source": [
    "# For reproducibility \n",
    "np.random.seed(10)\n",
    "\n",
    "# Initialize array to store results\n",
    "p = (np.empty(n_sim))\n",
    "p.fill(np.nan)\n",
    "\n",
    "#  Run a for loop for range of values in n_sim\n",
    "for i in range(n_sim):\n",
    "    control = np.random.normal(loc = control_mean, scale = control_sd, size = sample_size)\n",
    "    experimental = np.random.normal(loc = experimental_mean, scale = experimental_sd, size = sample_size)\n",
    "    p[i] = stats.ttest_ind(control, experimental)[1]\n",
    "\n",
    "# number of null hypothesis rejections\n",
    "num_null_rejects = np.sum(p < 0.05)\n",
    "power = num_null_rejects / n_sim\n",
    "\n",
    "power\n",
    "\n",
    "# 0.495"
   ]
  },
  {
   "cell_type": "markdown",
   "metadata": {},
   "source": [
    "These results indicate that using 12 participants in each group and with given statistics, the statistical power of the experiment is 49%. This can be interpreted as follows:\n",
    "\n",
    "> **If a large effect (0.17 or greater) is truly present between control and experimental groups, then the null hypothesis (i.e. no difference with alpha 0.05) would be rejected 49% of the time. **"
   ]
  },
  {
   "cell_type": "markdown",
   "metadata": {},
   "source": [
    "## Sample size requirements for a given effect size\n",
    "\n",
    "Often in behavioral research 0.8 is accepted as a sufficient level of power.  \n",
    "\n",
    "Clearly, this is not the case for the experiment as currently designed. Determine the required sample size in order to identify a difference of 0.17 or greater between the group means with an 80% power."
   ]
  },
  {
   "cell_type": "code",
   "execution_count": 7,
   "metadata": {},
   "outputs": [],
   "source": [
    "# Required power\n",
    "target = 0.8"
   ]
  },
  {
   "cell_type": "code",
   "execution_count": 8,
   "metadata": {},
   "outputs": [],
   "source": [
    "from statsmodels.stats.power import TTestIndPower\n",
    "power = TTestIndPower()"
   ]
  },
  {
   "cell_type": "code",
   "execution_count": 9,
   "metadata": {},
   "outputs": [
    {
     "data": {
      "text/plain": [
       "24.951708908275144"
      ]
     },
     "execution_count": 9,
     "metadata": {},
     "output_type": "execute_result"
    }
   ],
   "source": [
    "# Determine the sample size\n",
    "power.solve_power(effect_size = (0.17 / 0.21), alpha = 0.05, power = target)"
   ]
  },
  {
   "cell_type": "code",
   "execution_count": 10,
   "metadata": {},
   "outputs": [],
   "source": [
    "# Minimum sample size to start the simulations \n",
    "sample_size = 12\n",
    "null_rejected = 0\n",
    "n_sim = 10000"
   ]
  },
  {
   "cell_type": "markdown",
   "metadata": {},
   "source": [
    "As above, perform the following\n",
    "\n",
    "* Initialize an empty array for storing results\n",
    "* initialize a list for storing sample size x power summary\n",
    "* While current power is less than the target power\n",
    "    * Generate distributions for control and experimental groups using given statistics (as before)\n",
    "    * Run a t-test and store results\n",
    "    * Calculate current power \n",
    "    * Output current sample size and power calculated for inspection\n",
    "    * Store results: Sample size, power\n",
    "    * increase the sample size by 1 and repeat"
   ]
  },
  {
   "cell_type": "code",
   "execution_count": 11,
   "metadata": {},
   "outputs": [
    {
     "name": "stdout",
     "output_type": "stream",
     "text": [
      "Sample Size: 12 - Power: 0.4762\n",
      "Sample Size: 13 - Power: 0.5201\n",
      "Sample Size: 14 - Power: 0.5418\n",
      "Sample Size: 15 - Power: 0.575\n",
      "Sample Size: 16 - Power: 0.6051\n",
      "Sample Size: 17 - Power: 0.6217\n",
      "Sample Size: 18 - Power: 0.6589\n",
      "Sample Size: 19 - Power: 0.6837\n",
      "Sample Size: 20 - Power: 0.701\n",
      "Sample Size: 21 - Power: 0.7316\n",
      "Sample Size: 22 - Power: 0.7422\n",
      "Sample Size: 23 - Power: 0.7662\n",
      "Sample Size: 24 - Power: 0.7829\n",
      "Sample Size: 25 - Power: 0.7974\n",
      "Sample Size: 26 - Power: 0.8137\n"
     ]
    }
   ],
   "source": [
    "np.random.seed(10)\n",
    "\n",
    "p = (np.empty(n_sim))\n",
    "p.fill(np.nan)\n",
    "\n",
    "power_sample = []\n",
    "sample_size_list = []\n",
    "\n",
    "power = 0\n",
    "# Keep iterating as shown above until desired power is obtained\n",
    "while power < target:\n",
    "    for i in range(n_sim):\n",
    "        control = np.random.normal(loc = control_mean, scale = control_sd, size = sample_size)\n",
    "        experimental = np.random.normal(loc = experimental_mean, scale = experimental_sd, size = sample_size)\n",
    "        p[i] = stats.ttest_ind(control, experimental)[1]\n",
    "    num_null_rejects = np.sum(p < 0.05)\n",
    "    power = num_null_rejects / n_sim\n",
    "    power_sample.append(power)\n",
    "    sample_size_list.append(sample_size)\n",
    "    print(f'Sample Size: {sample_size} - Power: {power}')\n",
    "    sample_size += 1\n",
    "\n",
    "    "
   ]
  },
  {
   "cell_type": "markdown",
   "metadata": {},
   "source": [
    "You can also plot the calculated power against sample size to visually inspect the effect of increasing sample size. "
   ]
  },
  {
   "cell_type": "code",
   "execution_count": 12,
   "metadata": {},
   "outputs": [
    {
     "data": {
      "image/png": "[encoded data removed]",
      "text/plain": [
       "<Figure size 432x288 with 1 Axes>"
      ]
     },
     "metadata": {
      "needs_background": "light"
     },
     "output_type": "display_data"
    }
   ],
   "source": [
    "# Plot a sample size X Power line graph \n",
    "sns.lineplot(x = sample_size_list, y = power_sample)\n",
    "plt.xlabel('Sample Size')\n",
    "plt.ylabel('Power');\n"
   ]
  },
  {
   "cell_type": "markdown",
   "metadata": {},
   "source": [
    "This output indicates that in order to get the required power (80%) to detect a difference of 0.17, you would need a considerably higher number of patients. "
   ]
  },
  {
   "cell_type": "markdown",
   "metadata": {},
   "source": [
    "## BONUS: Investigating the relationship between Power, Sample Size, and Effect Size\n",
    "\n",
    "You've seen how to calculate power given alpha, sample size, and effect size. To further investigate this relationship, it is interesting to plot the relationship between power and sample size for various effect sizes. \n",
    "\n",
    "To do this, run multiple simulations for varying parameters. Then store the parameters and plot the resulting dataset. Specifically:\n",
    "\n",
    "1. Use a value of $\\alpha$ = 0.05 for all of your simulations\n",
    "2. Use the following effect sizes: [0.01, 0.05, 0.1, 0.15, 0.2, 0.3, 0.5]\n",
    "3. Use the sample sizes from 10 to 500\n",
    "4. For each effect size sample size combination, calculate the accompanying power\n",
    "5. Plot a line graph of the power vs sample size relationship. You should have 7 plots; one for each of the effect sizes listed above. All 7 plots can be on the same graph but should be labeled appropriately. Plot the power on the y-axis and sample size on the x-axis."
   ]
  },
  {
   "cell_type": "code",
   "execution_count": 13,
   "metadata": {},
   "outputs": [],
   "source": [
    "#result_dict = {0.01: [], 0.05: [], 0.1: [], 0.15: [], 0.2: [], 0.3: [], 0.5: []}\n",
    "\n",
    "#for es in [0.01, 0.05, 0.1, 0.15, 0.2, 0.3, 0.5]:\n",
    "    #print(es)\n",
    "    #for i range(10, 501):\n",
    "        #if i % 50 == 0:\n",
    "            #print(i)"
   ]
  },
  {
   "cell_type": "code",
   "execution_count": 16,
   "metadata": {},
   "outputs": [
    {
     "name": "stdout",
     "output_type": "stream",
     "text": [
      "0.01\n",
      "50\n",
      "100\n",
      "150\n",
      "200\n",
      "250\n",
      "300\n",
      "350\n",
      "400\n",
      "450\n",
      "500\n",
      "0.05\n",
      "50\n",
      "100\n",
      "150\n",
      "200\n",
      "250\n",
      "300\n",
      "350\n",
      "400\n",
      "450\n",
      "500\n",
      "0.1\n",
      "50\n",
      "100\n",
      "150\n",
      "200\n",
      "250\n",
      "300\n",
      "350\n",
      "400\n",
      "450\n",
      "500\n",
      "0.15\n",
      "50\n",
      "100\n",
      "150\n",
      "200\n",
      "250\n",
      "300\n",
      "350\n",
      "400\n",
      "450\n",
      "500\n",
      "0.2\n",
      "50\n",
      "100\n",
      "150\n",
      "200\n",
      "250\n",
      "300\n",
      "350\n",
      "400\n",
      "450\n",
      "500\n",
      "0.3\n",
      "50\n",
      "100\n",
      "150\n",
      "200\n",
      "250\n",
      "300\n",
      "350\n",
      "400\n",
      "450\n",
      "500\n",
      "0.5\n",
      "50\n",
      "100\n",
      "150\n",
      "200\n",
      "250\n",
      "300\n",
      "350\n",
      "400\n",
      "450\n",
      "500\n",
      "CPU times: user 1min 19s, sys: 310 ms, total: 1min 19s\n",
      "Wall time: 1min 19s\n"
     ]
    }
   ],
   "source": [
    "%%time \n",
    "result_dict = {0.01: [], 0.05: [], 0.1: [], 0.15: [], 0.2: [], 0.3: [], 0.5: []}\n",
    "result_dict\n",
    "n_sim = 100\n",
    "for es in [0.01, 0.05, 0.1, 0.15, 0.2, 0.3, 0.5]:\n",
    "    print(es)\n",
    "    for i in range(10, 501):\n",
    "        if i % 50 == 0:\n",
    "            print(i)\n",
    "        p = (np.empty(n_sim))\n",
    "        p.fill(np.nan)\n",
    "        for x in range(n_sim):\n",
    "            control = np.random.normal(loc = control_mean, scale = control_sd, size = i)\n",
    "            experimental = np.random.normal(loc = es, scale = experimental_sd, size = i)\n",
    "            p[x] = stats.ttest_ind(control, experimental)[1]\n",
    "        num_null_rejects = np.sum(p < 0.05)\n",
    "        power = num_null_rejects / n_sim\n",
    "        result_dict[es].append(power)\n",
    "                               "
   ]
  },
  {
   "cell_type": "code",
   "execution_count": 22,
   "metadata": {},
   "outputs": [
    {
     "data": {
      "text/plain": [
       "<matplotlib.legend.Legend at 0x7fae68a5c2e8>"
      ]
     },
     "execution_count": 22,
     "metadata": {},
     "output_type": "execute_result"
    },
    {
     "data": {
      "image/png": "[encoded data removed]",
      "text/plain": [
       "<Figure size 432x288 with 1 Axes>"
      ]
     },
     "metadata": {
      "needs_background": "light"
     },
     "output_type": "display_data"
    }
   ],
   "source": [
    "plt.plot(result_dict[0.01], label = \"0.01\")\n",
    "plt.plot(result_dict[0.05], label = \"0.05\")\n",
    "plt.plot(result_dict[0.1], label = \"0.1\")\n",
    "plt.plot(result_dict[0.15], label = \"0.15\")\n",
    "plt.plot(result_dict[0.2], label = \"0.2\")\n",
    "plt.plot(result_dict[0.3], label = \"0.3\")\n",
    "plt.plot(result_dict[0.5], label = \"0.5\")\n",
    "\n",
    "\n",
    "plt.legend()"
   ]
  },
  {
   "cell_type": "code",
   "execution_count": 18,
   "metadata": {},
   "outputs": [
    {
     "name": "stdout",
     "output_type": "stream",
     "text": [
      "[0.04, 0.09, 0.06, 0.05, 0.01, 0.07, 0.06, 0.01, 0.05, 0.07, 0.04, 0.04, 0.07, 0.06, 0.03, 0.01, 0.03, 0.05, 0.05, 0.02, 0.05, 0.02, 0.01, 0.03, 0.03, 0.05, 0.07, 0.04, 0.07, 0.07, 0.08, 0.08, 0.06, 0.03, 0.01, 0.03, 0.09, 0.09, 0.04, 0.07, 0.05, 0.03, 0.02, 0.03, 0.02, 0.05, 0.06, 0.08, 0.09, 0.09, 0.05, 0.03, 0.02, 0.06, 0.06, 0.06, 0.1, 0.03, 0.05, 0.06, 0.06, 0.08, 0.1, 0.07, 0.07, 0.12, 0.08, 0.08, 0.03, 0.05, 0.08, 0.05, 0.07, 0.07, 0.06, 0.07, 0.09, 0.07, 0.04, 0.06, 0.08, 0.08, 0.06, 0.07, 0.09, 0.06, 0.08, 0.1, 0.07, 0.12, 0.03, 0.09, 0.05, 0.06, 0.06, 0.06, 0.04, 0.05, 0.04, 0.06, 0.07, 0.14, 0.04, 0.08, 0.04, 0.06, 0.05, 0.03, 0.07, 0.05, 0.06, 0.08, 0.05, 0.08, 0.05, 0.06, 0.05, 0.06, 0.09, 0.05, 0.03, 0.11, 0.01, 0.03, 0.1, 0.07, 0.07, 0.04, 0.05, 0.03, 0.04, 0.07, 0.07, 0.05, 0.08, 0.06, 0.04, 0.07, 0.05, 0.1, 0.07, 0.03, 0.04, 0.03, 0.07, 0.04, 0.07, 0.07, 0.1, 0.09, 0.07, 0.04, 0.06, 0.02, 0.03, 0.07, 0.03, 0.09, 0.06, 0.09, 0.08, 0.05, 0.06, 0.11, 0.09, 0.03, 0.08, 0.05, 0.08, 0.07, 0.09, 0.09, 0.05, 0.07, 0.12, 0.09, 0.08, 0.09, 0.1, 0.07, 0.1, 0.11, 0.07, 0.03, 0.09, 0.09, 0.07, 0.03, 0.09, 0.07, 0.06, 0.06, 0.09, 0.06, 0.07, 0.06, 0.09, 0.1, 0.07, 0.06, 0.04, 0.09, 0.13, 0.06, 0.04, 0.07, 0.08, 0.07, 0.11, 0.09, 0.08, 0.06, 0.08, 0.12, 0.09, 0.01, 0.09, 0.09, 0.1, 0.08, 0.07, 0.08, 0.06, 0.11, 0.06, 0.11, 0.15, 0.07, 0.07, 0.11, 0.08, 0.06, 0.13, 0.07, 0.14, 0.09, 0.04, 0.1, 0.07, 0.08, 0.1, 0.09, 0.14, 0.07, 0.09, 0.07, 0.08, 0.06, 0.06, 0.11, 0.1, 0.09, 0.12, 0.16, 0.13, 0.07, 0.07, 0.08, 0.05, 0.12, 0.08, 0.12, 0.12, 0.09, 0.1, 0.07, 0.12, 0.08, 0.1, 0.1, 0.07, 0.09, 0.11, 0.07, 0.06, 0.12, 0.09, 0.1, 0.09, 0.09, 0.1, 0.09, 0.03, 0.1, 0.05, 0.11, 0.06, 0.1, 0.08, 0.07, 0.1, 0.13, 0.03, 0.06, 0.05, 0.1, 0.09, 0.07, 0.06, 0.11, 0.05, 0.09, 0.11, 0.12, 0.12, 0.12, 0.07, 0.12, 0.06, 0.11, 0.08, 0.1, 0.07, 0.06, 0.05, 0.13, 0.07, 0.1, 0.11, 0.04, 0.08, 0.09, 0.09, 0.07, 0.12, 0.07, 0.09, 0.08, 0.07, 0.11, 0.09, 0.08, 0.07, 0.09, 0.06, 0.09, 0.08, 0.05, 0.11, 0.07, 0.09, 0.03, 0.07, 0.1, 0.08, 0.1, 0.08, 0.11, 0.06, 0.09, 0.08, 0.13, 0.11, 0.05, 0.16, 0.07, 0.11, 0.14, 0.07, 0.11, 0.09, 0.07, 0.1, 0.09, 0.15, 0.13, 0.07, 0.11, 0.11, 0.09, 0.12, 0.06, 0.14, 0.09, 0.1, 0.08, 0.07, 0.09, 0.15, 0.09, 0.09, 0.1, 0.09, 0.14, 0.13, 0.07, 0.05, 0.07, 0.1, 0.09, 0.09, 0.17, 0.08, 0.16, 0.07, 0.18, 0.09, 0.11, 0.04, 0.1, 0.12, 0.12, 0.11, 0.12, 0.07, 0.08, 0.12, 0.11, 0.08, 0.09, 0.13, 0.1, 0.14, 0.11, 0.16, 0.11, 0.06, 0.12, 0.15, 0.13, 0.08, 0.12, 0.05, 0.14, 0.11, 0.09, 0.07, 0.09, 0.14, 0.1, 0.15, 0.11, 0.14, 0.15, 0.13, 0.08, 0.12, 0.16, 0.11, 0.11, 0.12, 0.15, 0.17, 0.15, 0.14, 0.11, 0.14, 0.1, 0.12, 0.17, 0.08, 0.16, 0.15, 0.1, 0.08, 0.07, 0.13, 0.15, 0.1, 0.08, 0.11, 0.11, 0.09, 0.1, 0.08, 0.1, 0.08, 0.15, 0.1, 0.1, 0.09, 0.18, 0.12, 0.1, 0.08, 0.09, 0.09, 0.1, 0.09, 0.09, 0.11, 0.07, 0.1, 0.15, 0.15, 0.12, 0.1, 0.18, 0.13, 0.13, 0.13]\n"
     ]
    }
   ],
   "source": [
    "print(result_dict[0.01])"
   ]
  },
  {
   "cell_type": "code",
   "execution_count": 23,
   "metadata": {},
   "outputs": [
    {
     "data": {
      "text/plain": [
       "[<matplotlib.lines.Line2D at 0x7fae68b146d8>]"
      ]
     },
     "execution_count": 23,
     "metadata": {},
     "output_type": "execute_result"
    },
    {
     "data": {
      "image/png": "[encoded data removed]",
      "text/plain": [
       "<Figure size 432x288 with 1 Axes>"
      ]
     },
     "metadata": {
      "needs_background": "light"
     },
     "output_type": "display_data"
    }
   ],
   "source": [
    "plt.plot(range(10, 501), result_dict[0.01])"
   ]
  },
  {
   "cell_type": "code",
   "execution_count": null,
   "metadata": {},
   "outputs": [],
   "source": [
    "result_dict[0.01]"
   ]
  },
  {
   "cell_type": "markdown",
   "metadata": {},
   "source": [
    "## Summary\n",
    "\n",
    "In this lesson, you gained further practice with \"statistical power\" and how it can be used to analyze experimental design. You ran a simulation to determine the sample size that would provide a given value of power (for a given alpha and effect size). Running simulations like this, as well as further investigations regarding required sample sizes for higher power thresholds or smaller effect sizes is critical in designing meaningful experiments where one can be confident in the subsequent conclusions drawn."
   ]
  }
 ],
 "metadata": {
  "kernelspec": {
   "display_name": "learn-env",
   "language": "python",
   "name": "learn-env"
  },
  "language_info": {
   "codemirror_mode": {
    "name": "ipython",
    "version": 3
   },
   "file_extension": ".py",
   "mimetype": "text/x-python",
   "name": "python",
   "nbconvert_exporter": "python",
   "pygments_lexer": "ipython3",
   "version": "3.6.9"
  },
  "toc": {
   "base_numbering": 1,
   "nav_menu": {},
   "number_sections": true,
   "sideBar": true,
   "skip_h1_title": false,
   "title_cell": "Table of Contents",
   "title_sidebar": "Contents",
   "toc_cell": false,
   "toc_position": {},
   "toc_section_display": true,
   "toc_window_display": false
  }
 },
 "nbformat": 4,
 "nbformat_minor": 2
}
